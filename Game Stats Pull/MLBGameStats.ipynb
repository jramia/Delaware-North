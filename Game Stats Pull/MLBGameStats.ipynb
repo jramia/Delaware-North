{
 "cells": [
  {
   "cell_type": "code",
   "execution_count": 1,
   "metadata": {},
   "outputs": [],
   "source": [
    "import pandas as pd\n",
    "from pybaseball import schedule_and_record"
   ]
  },
  {
   "cell_type": "code",
   "execution_count": 2,
   "metadata": {},
   "outputs": [],
   "source": [
    "years = [2015, 2016, 2017, 2018, 2019]\n",
    "teams = [\"ATL\", \"BAL\", \"CHW\", \"CIN\", \"CLE\",\\\n",
    "         \"DET\", \"MIL\", \"MIN\", \"SDP\", \"STL\", \"TEX\"]"
   ]
  },
  {
   "cell_type": "code",
   "execution_count": 3,
   "metadata": {},
   "outputs": [],
   "source": [
    "data = pd.DataFrame()\n",
    "for team in teams:\n",
    "    for year in years:\n",
    "        d = schedule_and_record(year, team)\n",
    "        d['Year'] = str(year)\n",
    "        data = data.append(d, ignore_index=True)"
   ]
  },
  {
   "cell_type": "code",
   "execution_count": 4,
   "metadata": {
    "scrolled": true
   },
   "outputs": [
    {
     "data": {
      "text/html": [
       "<div>\n",
       "<style scoped>\n",
       "    .dataframe tbody tr th:only-of-type {\n",
       "        vertical-align: middle;\n",
       "    }\n",
       "\n",
       "    .dataframe tbody tr th {\n",
       "        vertical-align: top;\n",
       "    }\n",
       "\n",
       "    .dataframe thead th {\n",
       "        text-align: right;\n",
       "    }\n",
       "</style>\n",
       "<table border=\"1\" class=\"dataframe\">\n",
       "  <thead>\n",
       "    <tr style=\"text-align: right;\">\n",
       "      <th></th>\n",
       "      <th>Date</th>\n",
       "      <th>Tm</th>\n",
       "      <th>Home_Away</th>\n",
       "      <th>Opp</th>\n",
       "      <th>W/L</th>\n",
       "      <th>R</th>\n",
       "      <th>RA</th>\n",
       "      <th>Inn</th>\n",
       "      <th>W-L</th>\n",
       "      <th>Rank</th>\n",
       "      <th>GB</th>\n",
       "      <th>Win</th>\n",
       "      <th>Loss</th>\n",
       "      <th>Save</th>\n",
       "      <th>Time</th>\n",
       "      <th>D/N</th>\n",
       "      <th>Attendance</th>\n",
       "      <th>Streak</th>\n",
       "      <th>Orig. Scheduled</th>\n",
       "      <th>Year</th>\n",
       "    </tr>\n",
       "  </thead>\n",
       "  <tbody>\n",
       "    <tr>\n",
       "      <th>160</th>\n",
       "      <td>Sunday, Oct 4 (1)</td>\n",
       "      <td>ATL</td>\n",
       "      <td>Home</td>\n",
       "      <td>STL</td>\n",
       "      <td>W</td>\n",
       "      <td>6.0</td>\n",
       "      <td>0.0</td>\n",
       "      <td>9.0</td>\n",
       "      <td>66-95</td>\n",
       "      <td>4.0</td>\n",
       "      <td>23.0</td>\n",
       "      <td>Miller</td>\n",
       "      <td>Lackey</td>\n",
       "      <td>None</td>\n",
       "      <td>2:14</td>\n",
       "      <td>D</td>\n",
       "      <td>NaN</td>\n",
       "      <td>2.0</td>\n",
       "      <td>None</td>\n",
       "      <td>2015</td>\n",
       "    </tr>\n",
       "    <tr>\n",
       "      <th>161</th>\n",
       "      <td>Sunday, Oct 4 (2)</td>\n",
       "      <td>ATL</td>\n",
       "      <td>Home</td>\n",
       "      <td>STL</td>\n",
       "      <td>W</td>\n",
       "      <td>2.0</td>\n",
       "      <td>0.0</td>\n",
       "      <td>9.0</td>\n",
       "      <td>67-95</td>\n",
       "      <td>4.0</td>\n",
       "      <td>23.0</td>\n",
       "      <td>Wisler</td>\n",
       "      <td>Lynn</td>\n",
       "      <td>Jackson</td>\n",
       "      <td>2:19</td>\n",
       "      <td>D</td>\n",
       "      <td>31441.0</td>\n",
       "      <td>3.0</td>\n",
       "      <td>2015-10-03 (Rain)</td>\n",
       "      <td>2015</td>\n",
       "    </tr>\n",
       "  </tbody>\n",
       "</table>\n",
       "</div>"
      ],
      "text/plain": [
       "                  Date   Tm Home_Away  Opp W/L    R   RA  Inn    W-L  Rank  \\\n",
       "160  Sunday, Oct 4 (1)  ATL      Home  STL   W  6.0  0.0  9.0  66-95   4.0   \n",
       "161  Sunday, Oct 4 (2)  ATL      Home  STL   W  2.0  0.0  9.0  67-95   4.0   \n",
       "\n",
       "       GB     Win    Loss     Save  Time D/N  Attendance  Streak  \\\n",
       "160  23.0  Miller  Lackey     None  2:14   D         NaN     2.0   \n",
       "161  23.0  Wisler    Lynn  Jackson  2:19   D     31441.0     3.0   \n",
       "\n",
       "       Orig. Scheduled  Year  \n",
       "160               None  2015  \n",
       "161  2015-10-03 (Rain)  2015  "
      ]
     },
     "execution_count": 4,
     "metadata": {},
     "output_type": "execute_result"
    }
   ],
   "source": [
    "data.iloc[160:162,:]"
   ]
  },
  {
   "cell_type": "code",
   "execution_count": 5,
   "metadata": {},
   "outputs": [],
   "source": [
    "adj = data.copy(deep=True)"
   ]
  },
  {
   "cell_type": "code",
   "execution_count": 6,
   "metadata": {},
   "outputs": [],
   "source": [
    "adj['DblHdrGm#'] = adj['Date'].apply(lambda row: row[-2] if row[-3] == '(' else 0).astype(int)\n",
    "adj['DblHdr'] = adj['Date'].apply(lambda row: 1 if row[-3] == '(' else 0).astype(int)\n",
    "adj['Date'] = adj['Date'].apply(lambda row: row[:-4] if row[-3] == '(' else row)"
   ]
  },
  {
   "cell_type": "code",
   "execution_count": 7,
   "metadata": {},
   "outputs": [
    {
     "data": {
      "text/html": [
       "<div>\n",
       "<style scoped>\n",
       "    .dataframe tbody tr th:only-of-type {\n",
       "        vertical-align: middle;\n",
       "    }\n",
       "\n",
       "    .dataframe tbody tr th {\n",
       "        vertical-align: top;\n",
       "    }\n",
       "\n",
       "    .dataframe thead th {\n",
       "        text-align: right;\n",
       "    }\n",
       "</style>\n",
       "<table border=\"1\" class=\"dataframe\">\n",
       "  <thead>\n",
       "    <tr style=\"text-align: right;\">\n",
       "      <th></th>\n",
       "      <th>Date</th>\n",
       "      <th>Tm</th>\n",
       "      <th>Home_Away</th>\n",
       "      <th>Opp</th>\n",
       "      <th>W/L</th>\n",
       "      <th>R</th>\n",
       "      <th>RA</th>\n",
       "      <th>Inn</th>\n",
       "      <th>W-L</th>\n",
       "      <th>Rank</th>\n",
       "      <th>...</th>\n",
       "      <th>Loss</th>\n",
       "      <th>Save</th>\n",
       "      <th>Time</th>\n",
       "      <th>D/N</th>\n",
       "      <th>Attendance</th>\n",
       "      <th>Streak</th>\n",
       "      <th>Orig. Scheduled</th>\n",
       "      <th>Year</th>\n",
       "      <th>DblHdrGm#</th>\n",
       "      <th>DblHdr</th>\n",
       "    </tr>\n",
       "  </thead>\n",
       "  <tbody>\n",
       "    <tr>\n",
       "      <th>160</th>\n",
       "      <td>Sunday, Oct 4</td>\n",
       "      <td>ATL</td>\n",
       "      <td>Home</td>\n",
       "      <td>STL</td>\n",
       "      <td>W</td>\n",
       "      <td>6.0</td>\n",
       "      <td>0.0</td>\n",
       "      <td>9.0</td>\n",
       "      <td>66-95</td>\n",
       "      <td>4.0</td>\n",
       "      <td>...</td>\n",
       "      <td>Lackey</td>\n",
       "      <td>None</td>\n",
       "      <td>2:14</td>\n",
       "      <td>D</td>\n",
       "      <td>NaN</td>\n",
       "      <td>2.0</td>\n",
       "      <td>None</td>\n",
       "      <td>2015</td>\n",
       "      <td>1</td>\n",
       "      <td>1</td>\n",
       "    </tr>\n",
       "    <tr>\n",
       "      <th>161</th>\n",
       "      <td>Sunday, Oct 4</td>\n",
       "      <td>ATL</td>\n",
       "      <td>Home</td>\n",
       "      <td>STL</td>\n",
       "      <td>W</td>\n",
       "      <td>2.0</td>\n",
       "      <td>0.0</td>\n",
       "      <td>9.0</td>\n",
       "      <td>67-95</td>\n",
       "      <td>4.0</td>\n",
       "      <td>...</td>\n",
       "      <td>Lynn</td>\n",
       "      <td>Jackson</td>\n",
       "      <td>2:19</td>\n",
       "      <td>D</td>\n",
       "      <td>31441.0</td>\n",
       "      <td>3.0</td>\n",
       "      <td>2015-10-03 (Rain)</td>\n",
       "      <td>2015</td>\n",
       "      <td>2</td>\n",
       "      <td>1</td>\n",
       "    </tr>\n",
       "  </tbody>\n",
       "</table>\n",
       "<p>2 rows × 22 columns</p>\n",
       "</div>"
      ],
      "text/plain": [
       "              Date   Tm Home_Away  Opp W/L    R   RA  Inn    W-L  Rank  ...  \\\n",
       "160  Sunday, Oct 4  ATL      Home  STL   W  6.0  0.0  9.0  66-95   4.0  ...   \n",
       "161  Sunday, Oct 4  ATL      Home  STL   W  2.0  0.0  9.0  67-95   4.0  ...   \n",
       "\n",
       "       Loss     Save  Time D/N Attendance Streak    Orig. Scheduled  Year  \\\n",
       "160  Lackey     None  2:14   D        NaN    2.0               None  2015   \n",
       "161    Lynn  Jackson  2:19   D    31441.0    3.0  2015-10-03 (Rain)  2015   \n",
       "\n",
       "    DblHdrGm# DblHdr  \n",
       "160         1      1  \n",
       "161         2      1  \n",
       "\n",
       "[2 rows x 22 columns]"
      ]
     },
     "execution_count": 7,
     "metadata": {},
     "output_type": "execute_result"
    }
   ],
   "source": [
    "adj.iloc[160:162,:]"
   ]
  },
  {
   "cell_type": "code",
   "execution_count": 8,
   "metadata": {},
   "outputs": [],
   "source": [
    "adj['Date'] = (adj['Date'] + ' ' + (adj['Year'])).astype('datetime64')"
   ]
  },
  {
   "cell_type": "code",
   "execution_count": 9,
   "metadata": {},
   "outputs": [],
   "source": [
    "adj['Year'] = adj['Date'].dt.year\n",
    "adj['Month'] = adj['Date'].dt.month\n",
    "adj['Week'] = adj['Date'].dt.week\n",
    "adj['Day_of_Year'] = adj['Date'].dt.dayofyear\n",
    "adj['Day_of_Month'] = adj['Date'].dt.day\n",
    "adj['Day_of_Week'] = adj['Date'].dt.dayofweek\n",
    "adj['Weekend'] = adj['Day_of_Week'].apply(lambda row: 1 if row in [5,6] else 0)"
   ]
  },
  {
   "cell_type": "code",
   "execution_count": 10,
   "metadata": {},
   "outputs": [],
   "source": [
    "adj['Home_Away'] = adj.Home_Away.map({'@':0, 'Home':1})"
   ]
  },
  {
   "cell_type": "code",
   "execution_count": 11,
   "metadata": {},
   "outputs": [],
   "source": [
    "adj['Walkoff'] = adj[pd.notnull(adj['W/L'])]['W/L'].apply(lambda row: 1 if len(row) > 1 else 0).astype(int)\n",
    "adj['W/L'] = adj[pd.notnull(adj['W/L'])]['W/L'].apply(lambda row: 1 if row[0] == 'W' else 0).astype(int)"
   ]
  },
  {
   "cell_type": "code",
   "execution_count": 12,
   "metadata": {},
   "outputs": [],
   "source": [
    "adj['Wins'] = adj[pd.notnull(adj['W-L'])]['W-L'].apply(lambda row: row.split('-')[0]).astype(int)\n",
    "adj['Losses'] = adj[pd.notnull(adj['W-L'])]['W-L'].apply(lambda row: row.split('-')[1]).astype(int)\n",
    "adj['W-L'] = round(adj['Wins']/(adj['Wins']+adj['Losses']),3)"
   ]
  },
  {
   "cell_type": "code",
   "execution_count": 13,
   "metadata": {},
   "outputs": [],
   "source": [
    "adj['Shortened'] = adj[pd.notnull(adj['Inn'])]['Inn'].apply(lambda row: 1 if row < 9 else 0).astype(int)\n",
    "adj['Extra'] = adj[pd.notnull(adj['Inn'])]['Inn'].apply(lambda row: 1 if row > 9 else 0).astype(int)"
   ]
  },
  {
   "cell_type": "code",
   "execution_count": 14,
   "metadata": {},
   "outputs": [],
   "source": [
    "adj['GB'] = adj[pd.notnull(adj['GB'])]['GB'].apply(lambda row: row.split('up')[1] if row.split('up')[0] == ''\n",
    "                                                   else '-' + row.split('up')[0])\n",
    "adj['GB'] = adj.GB.replace({'-Tied':0}).astype(float)"
   ]
  },
  {
   "cell_type": "code",
   "execution_count": 15,
   "metadata": {},
   "outputs": [],
   "source": [
    "adj['Team_Pitcher'] = adj[pd.notnull(adj['W/L'])].apply(lambda row: row['Win'] if row['W/L'] == 1 else row['Loss'], axis=1)\n",
    "adj['Opp_Pitcher'] = adj[pd.notnull(adj['W/L'])].apply(lambda row: row['Win'] if row['W/L'] == 0 else row['Loss'], axis=1)"
   ]
  },
  {
   "cell_type": "code",
   "execution_count": 16,
   "metadata": {},
   "outputs": [],
   "source": [
    "adj['Duration'] = adj[pd.notnull(adj['Time'])]['Time'].str.split(':').apply(lambda row: (int(row[0])*60)+int(row[1]))"
   ]
  },
  {
   "cell_type": "code",
   "execution_count": 17,
   "metadata": {},
   "outputs": [],
   "source": [
    "adj['D/N'] = adj['D/N'].map({'N':0, 'D':1})"
   ]
  },
  {
   "cell_type": "code",
   "execution_count": 18,
   "metadata": {},
   "outputs": [],
   "source": [
    "adj['Rescheduled'] = adj[pd.notnull(adj['W/L'])]['Orig. Scheduled'].apply(lambda row: 0 if pd.isnull(row) == True else 1)\n",
    "adj['Reschedule_Reason'] = adj[adj['Rescheduled'] == 1]['Orig. Scheduled'].apply(lambda row: row[row.find('(')+1:-1])\n",
    "adj['Orig. Scheduled'] = adj[adj['Rescheduled'] == 1]['Orig. Scheduled'].apply(lambda row: row.split(' (')[0]).astype('datetime64')"
   ]
  },
  {
   "cell_type": "code",
   "execution_count": null,
   "metadata": {},
   "outputs": [],
   "source": [
    "# Create \"Interleague\" variable        \n",
    "AL = [\"BAL\",\"BOS\",\"NYY\",\"TBR\",\"TOR\",\n",
    "      \"CHW\",\"CLE\",\"DET\",\"KCR\",\"MIN\",\n",
    "      \"HOU\",\"LAA\",\"OAK\",\"SEA\",\"TEX\"] # Create list of AL teams\n",
    "NL = [\"ATL\",\"MIA\",\"NYM\",\"PHI\",\"WSN\",\n",
    "      \"CHC\",\"CIN\",\"MIL\",\"PIT\",\"STL\",\n",
    "      \"ARI\",\"COL\",\"LAD\",\"SDP\",\"SFG\"] # Create list of NL teams\n",
    "\n",
    "adj[\"Interleague\"] = \"\" # Create empty \"Interleague\" column in adjframe\n",
    "\n",
    "# Iterate through each row in adjframe to test if team and opponent are in same league\n",
    "# If TRUE then Interleague = 0. If FALSE then Interleague = 1\n",
    "for i in range(0,len(adj)):\n",
    "    if (adj.iloc[i,1] in AL and adj.iloc[i,3] in AL) or \\\n",
    "       (adj.iloc[i,1] in NL and adj.iloc[i,3] in NL):\n",
    "        adj.iloc[i,-1] = 0\n",
    "    else:\n",
    "        adj.iloc[i,-1] = 1\n",
    "        \n",
    "# Create \"Rival\" variable\n",
    "ALE = [\"BAL\",\"BOS\",\"NYY\",\"TBR\",\"TOR\"] # Create list of ALE teams\n",
    "ALC = [\"CHW\",\"CLE\",\"DET\",\"KCR\",\"MIN\"] # Create list of ALC teams\n",
    "ALW = [\"HOU\",\"LAA\",\"OAK\",\"SEA\",\"TEX\"] # Create list of ALW teams\n",
    "NLE = [\"ATL\",\"MIA\",\"NYM\",\"PHI\",\"WSN\"] # Create list of NLE teams\n",
    "NLC = [\"CHC\",\"CIN\",\"MIL\",\"PIT\",\"STL\"] # Create list of NLC teams\n",
    "NLW = [\"ARI\",\"COL\",\"LAD\",\"SDP\",\"SFG\"] # Create list of NLW teams\n",
    "\n",
    "adj[\"Rival\"] = \"\" # Create empty \"Rival\" column in adjframe\n",
    "\n",
    "# Iterate through each row in adjframe to test if team and opponent are in same division\n",
    "# If TRUE then Rival = 1. If FALSE then Rival = 0\n",
    "for i in range(0,len(adj)):\n",
    "    if (adj.iloc[i,1] in ALE and adj.iloc[i,3] in ALE) or \\\n",
    "       (adj.iloc[i,1] in ALC and adj.iloc[i,3] in ALC) or \\\n",
    "       (adj.iloc[i,1] in ALW and adj.iloc[i,3] in ALW) or \\\n",
    "       (adj.iloc[i,1] in NLE and adj.iloc[i,3] in NLE) or \\\n",
    "       (adj.iloc[i,1] in NLC and adj.iloc[i,3] in NLC) or \\\n",
    "       (adj.iloc[i,1] in NLW and adj.iloc[i,3] in NLW):\n",
    "        adj.iloc[i,-1] = 1\n",
    "    else:\n",
    "        adj.iloc[i,-1] = 0"
   ]
  },
  {
   "cell_type": "code",
   "execution_count": null,
   "metadata": {},
   "outputs": [],
   "source": [
    "adj['Gm#'] = adj.groupby(['Year','Tm']).cumcount() + 1\n",
    "adj['HmGm#'] = adj.groupby(['Year','Tm','Home_Away']).cumcount() + 1\n",
    "for i in range(0,len(adj)):\n",
    "    if adj.iloc[i,2] != 1:\n",
    "        adj.iloc[i,-1] = ''"
   ]
  },
  {
   "cell_type": "code",
   "execution_count": null,
   "metadata": {},
   "outputs": [],
   "source": [
    "# adj.to_csv('MLBGameStats.csv', index=False)"
   ]
  },
  {
   "cell_type": "code",
   "execution_count": null,
   "metadata": {},
   "outputs": [],
   "source": [
    "# import saspy"
   ]
  },
  {
   "cell_type": "code",
   "execution_count": null,
   "metadata": {},
   "outputs": [],
   "source": [
    "# mysas = saspy.SASsession(cfgname='iomwin')"
   ]
  },
  {
   "cell_type": "code",
   "execution_count": null,
   "metadata": {},
   "outputs": [],
   "source": [
    "# mysas.df2sd(adj,table='MLB_GAME_STATS',libref=\"lcssan\")"
   ]
  }
 ],
 "metadata": {
  "kernelspec": {
   "display_name": "Python 3",
   "language": "python",
   "name": "python3"
  },
  "language_info": {
   "codemirror_mode": {
    "name": "ipython",
    "version": 3
   },
   "file_extension": ".py",
   "mimetype": "text/x-python",
   "name": "python",
   "nbconvert_exporter": "python",
   "pygments_lexer": "ipython3",
   "version": "3.7.0"
  }
 },
 "nbformat": 4,
 "nbformat_minor": 2
}
