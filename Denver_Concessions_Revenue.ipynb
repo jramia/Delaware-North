{
 "cells": [
  {
   "cell_type": "code",
   "execution_count": 1,
   "metadata": {},
   "outputs": [],
   "source": [
    "import numpy as np\n",
    "from tabula import convert_into\n",
    "import csv\n",
    "import os"
   ]
  },
  {
   "cell_type": "code",
   "execution_count": 2,
   "metadata": {},
   "outputs": [],
   "source": [
    "filenames = np.array(['April%202016.pdf',\n",
    "                    'May%202016.pdf',\n",
    "                    'June%202016.pdf',\n",
    "                    'July%202016.pdf',\n",
    "                    'August%202016.pdf',\n",
    "                    'September%202016.pdf',\n",
    "                    'October%202016.pdf',\n",
    "                    'November%202016.pdf',\n",
    "                    '2016_Dec_Conces_Rev_Updated.pdf',\n",
    "                    '2017_Jan_Concess_Rev.pdf',\n",
    "                    '2017_Feb_Concess_Rev.pdf',\n",
    "                    '2017_Mar_Concess_Rev.pdf',\n",
    "                    '2017_April_Concess_Rev.pdf',\n",
    "                    '2017_May_Concess_Rev.pdf',\n",
    "                    'Concessions_Revenue_2017_June.pdf',\n",
    "                    'Concessions_Revenue_2017_July.pdf',\n",
    "                    'Concessions_Revenue_2017_August.pdf',\n",
    "                    'Concession_Revenue_2017_Sept.pdf',\n",
    "                    'concession_Revenue_2017_Oct.pdf',\n",
    "                    'concessions_revenue_2017_November.pdf',\n",
    "                    'Concessions_Revenue_2017_December.pdf',\n",
    "                    'Concessions_Report_2018_Jan.pdf',\n",
    "                    'Concessions_Revenue_2018_Feb_0.pdf',\n",
    "                    'Concessions_Revenue_2018_March_0.pdf',\n",
    "                    'Concessions_Revenue_2018_April.pdf',\n",
    "                    'Concessions_Revenue_2018_May_0.pdf',\n",
    "                    'Concessions_Revenue_2018_June_0.pdf',\n",
    "                    'Concessions_Revenue_2018_July.pdf',\n",
    "                    'Concessions_Revenue_2018_August.pdf',\n",
    "                    'Concessions_Revenue_2018_Sept.pdf',\n",
    "                    'Concessions_Revenue_2018_October_1.pdf',\n",
    "                    'Concessions_Revenue_2018_Nov.pdf',\n",
    "                    'Concessions_Revenue_2018_Dec.pdf',\n",
    "                    'Concessions_Revenue_2019_Jan.pdf',\n",
    "                    'Concessions_Revenue_2019_Feb.pdf',\n",
    "                    'Concessions_Revenue_2019_March.pdf',\n",
    "                    'Concessions_Revenue_2019_April.pdf']).reshape(-1,1)"
   ]
  },
  {
   "cell_type": "code",
   "execution_count": 3,
   "metadata": {},
   "outputs": [],
   "source": [
    "year_month = np.empty((0,2))\n",
    "for year in ['2016','2017','2018','2019']:\n",
    "    for month in ['01','02','03','04','05','06','07','08','09','10','11','12']:\n",
    "        year_month = np.append(year_month, np.array([[year,month]]), axis=0)\n",
    "year_month = year_month[3:len(filenames)+3]"
   ]
  },
  {
   "cell_type": "code",
   "execution_count": 4,
   "metadata": {},
   "outputs": [],
   "source": [
    "all_data = np.append(year_month, filenames, axis=1)"
   ]
  },
  {
   "cell_type": "code",
   "execution_count": 5,
   "metadata": {},
   "outputs": [],
   "source": [
    "for i in range(0,len(all_data)):\n",
    "    url = f'https://www.flydenver.com/sites/default/files/downloads/{all_data[i,2]}'\n",
    "    out = f'Concessions_Revenue_{all_data[i,0]}_{all_data[i,1]}.csv'\n",
    "    convert_into(url,\n",
    "                 out,\n",
    "                 output_format=\"csv\",\n",
    "                 pages='all',\n",
    "                 lattice=True)"
   ]
  },
  {
   "cell_type": "code",
   "execution_count": 6,
   "metadata": {},
   "outputs": [],
   "source": [
    "data = {}\n",
    "newfiles = []\n",
    "i = 0\n",
    "for file in os.listdir():\n",
    "    if file.endswith(\".csv\"):\n",
    "        newfiles.append(file)\n",
    "        with open(file, 'r') as readFile:\n",
    "            data[i] = list(csv.reader(readFile))\n",
    "    i = i+1        "
   ]
  },
  {
   "cell_type": "code",
   "execution_count": 7,
   "metadata": {},
   "outputs": [],
   "source": [
    "def rewrite_csv(file, out):\n",
    "    newdata = []\n",
    "    for row in file:\n",
    "        row = [string.replace('\\n',' ') for string in row]\n",
    "        if len(row) > 1:\n",
    "            if row[1] != '' and row[0] == '':\n",
    "                row = row[1:]\n",
    "            newdata.append(row)        \n",
    "    with open(out, 'w', newline='') as writeFile:\n",
    "        writer = csv.writer(writeFile)\n",
    "        writer.writerows(newdata)"
   ]
  },
  {
   "cell_type": "code",
   "execution_count": 8,
   "metadata": {},
   "outputs": [],
   "source": [
    "for i in range(1,len(data)+1):\n",
    "    rewrite_csv(data[i],newfiles[i-1])"
   ]
  }
 ],
 "metadata": {
  "kernelspec": {
   "display_name": "Python 3",
   "language": "python",
   "name": "python3"
  },
  "language_info": {
   "codemirror_mode": {
    "name": "ipython",
    "version": 3
   },
   "file_extension": ".py",
   "mimetype": "text/x-python",
   "name": "python",
   "nbconvert_exporter": "python",
   "pygments_lexer": "ipython3",
   "version": "3.7.1"
  }
 },
 "nbformat": 4,
 "nbformat_minor": 2
}
