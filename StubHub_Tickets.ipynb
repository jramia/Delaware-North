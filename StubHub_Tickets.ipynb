{
 "cells": [
  {
   "cell_type": "code",
   "execution_count": 1,
   "metadata": {},
   "outputs": [],
   "source": [
    "import requests\n",
    "import base64\n",
    "from getpass import getpass"
   ]
  },
  {
   "cell_type": "markdown",
   "metadata": {},
   "source": [
    "Enter your API key, secret, and StubHub login credentials.\n",
    "\n",
    "**Important:** The email/password you enter must belong to an account created on www.stubhub.com and NOT your developer account created on beta-developer.stubhub.com.\n",
    "\n",
    "For more information, visit StubHub's API documentation at https://beta-developer.stubhub.com/getting-started."
   ]
  },
  {
   "cell_type": "code",
   "execution_count": 2,
   "metadata": {},
   "outputs": [
    {
     "name": "stdout",
     "output_type": "stream",
     "text": [
      "Enter consumer key: 4cUdZL2aEcqClWZtlbpW7d19YmHv6icu\n",
      "Enter consumer secret: KXGMKAjn624sa99M\n",
      "Enter Stubhub username (email): josephramia@yahoo.com\n",
      "Enter Stubhub password: ········\n"
     ]
    }
   ],
   "source": [
    "consumer_key = input('Enter consumer key: ')\n",
    "consumer_secret = input('Enter consumer secret: ')\n",
    "stubhub_username = input('Enter Stubhub username (email): ')\n",
    "stubhub_password = getpass('Enter Stubhub password: ')"
   ]
  },
  {
   "cell_type": "code",
   "execution_count": 3,
   "metadata": {},
   "outputs": [],
   "source": [
    "combo = consumer_key + ':' + consumer_secret\n",
    "basic_authorization_token = base64.b64encode(combo.encode('utf-8'))\n",
    "basic_authorization_token = str(basic_authorization_token.decode())"
   ]
  },
  {
   "cell_type": "code",
   "execution_count": 4,
   "metadata": {},
   "outputs": [],
   "source": [
    "url = 'https://api.stubhub.com/sellers/oauth/accesstoken?grant_type=client_credentials'\n",
    "headers = {'Authorization':'Basic '+basic_authorization_token,\n",
    "           'Content-Type':'application/json'}\n",
    "body = {'username':stubhub_username,\n",
    "        'password':stubhub_password}\n",
    "\n",
    "r = requests.post(url, headers=headers, json=body)\n",
    "\n",
    "access_token = r.json()['access_token']\n",
    "user_GUID = r.json()['user_guid']"
   ]
  },
  {
   "cell_type": "code",
   "execution_count": 8,
   "metadata": {},
   "outputs": [
    {
     "name": "stdout",
     "output_type": "stream",
     "text": [
      "vtTRlN7YiwmkQYrAY0x0JcbBryli\n",
      "8C9162A622673D83E04400144FB7AE36\n"
     ]
    }
   ],
   "source": [
    "print(access_token)\n",
    "print(user_GUID)"
   ]
  }
 ],
 "metadata": {
  "kernelspec": {
   "display_name": "Python 3",
   "language": "python",
   "name": "python3"
  },
  "language_info": {
   "codemirror_mode": {
    "name": "ipython",
    "version": 3
   },
   "file_extension": ".py",
   "mimetype": "text/x-python",
   "name": "python",
   "nbconvert_exporter": "python",
   "pygments_lexer": "ipython3",
   "version": "3.7.1"
  }
 },
 "nbformat": 4,
 "nbformat_minor": 2
}
