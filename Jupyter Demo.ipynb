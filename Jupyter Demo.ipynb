{
 "cells": [
  {
   "cell_type": "markdown",
   "metadata": {},
   "source": [
    "# What is an ipynb file?\n",
    "\n",
    "* Each `.ipynb` file is a text file that describes the contents of your notebook in a format called [JSON](https://en.wikipedia.org/wiki/JSON)\n",
    "* Each cell and its contents is listed therein along with some metadata\n",
    "* You can view and edit this yourself — if you know what you are doing! — by selecting “Edit > Edit Notebook Metadata” from the menu bar in the notebook\n",
    "\n",
    "# The notebook interface\n",
    "\n",
    "* Hopefully this interface does not look entirely alien; after all, Jupyter is essentially just an advanced word processor\n",
    "* There are menus above that contain various options and commands\n",
    "* There's also a searchable command palette, which is the small button with the keyboard icon (or press `Ctrl + Shift + P`)\n",
    "\n",
    "# Getting familiar with terminology\n",
    "\n",
    "* There are two fairly prominent terms that you should notice, which are probably new to you:\n",
    "    1. A **cell** is a container for text to be displayed in the notebook or code to be executed by the notebook’s kernel\n",
    "    2. A **kernal** is a “computational engine” that executes the code contained in a notebook document\n",
    "* Both are key to understanding Jupyter and to what makes it more than just a word processor\n",
    "\n",
    "# Cells\n",
    "\n",
    "* Cells form the body of a notebook\n",
    "    * A *code cell* contains code to be executed in the kernel and displays its output below\n",
    "    * A *Markdown cell* contains text formatted using Markdown and displays its output in-place when it is run.\n",
    "    \n",
    "Let’s test out a code cell with the classic hello world example. Type `print('Hello World!')` into the cell and click the \"Run\" button in the toolbar above or press `Ctrl + Enter`."
   ]
  },
  {
   "cell_type": "code",
   "execution_count": 2,
   "metadata": {},
   "outputs": [
    {
     "name": "stdout",
     "output_type": "stream",
     "text": [
      "Hello World!\n"
     ]
    }
   ],
   "source": [
    "print('Hello World!')"
   ]
  },
  {
   "cell_type": "markdown",
   "metadata": {},
   "source": [
    "* When you run the cell, its output will be displayed below and the label to its left will change from `In [ ]` to `In [1]`\n",
    "* The output of a code cell also forms part of the document, which is why you can see it below\n",
    "* You can always tell the difference between code and Markdown cells because code cells have that label on the left and Markdown cells do not.\n",
    "    * The “In” part of the label is simply short for “Input,” while the label number indicates when the cell was executed on the kernel — in this case the cell was executed first\n",
    "    * Run the cell again and the label will change to `In [2]` because now the cell was the second to be run on the kernel\n",
    "    * It will become clearer why this is so useful later on when we take a closer look at kernels\n",
    "* To create a new code cell, select \"Insert > Insert Cell Below\" from the menu bar"
   ]
  },
  {
   "cell_type": "code",
   "execution_count": 4,
   "metadata": {},
   "outputs": [],
   "source": [
    "import time\n",
    "time.sleep(3)"
   ]
  },
  {
   "cell_type": "markdown",
   "metadata": {},
   "source": [
    "Did you notice anything different when you ran the code cell above?\n",
    "\n",
    "In general, the output of a cell comes from any text data specifically printed during the cells execution, as well as the value of the last line in the cell, be it a lone variable, a function call, an error, or something else. For example:"
   ]
  },
  {
   "cell_type": "code",
   "execution_count": 9,
   "metadata": {},
   "outputs": [
    {
     "ename": "NameError",
     "evalue": "name 'Hello' is not defined",
     "output_type": "error",
     "traceback": [
      "\u001b[1;31m---------------------------------------------------------------------------\u001b[0m",
      "\u001b[1;31mNameError\u001b[0m                                 Traceback (most recent call last)",
      "\u001b[1;32m<ipython-input-9-85bf5114fa6b>\u001b[0m in \u001b[0;36m<module>\u001b[1;34m()\u001b[0m\n\u001b[1;32m----> 1\u001b[1;33m \u001b[0mprint\u001b[0m\u001b[1;33m(\u001b[0m\u001b[0mHello\u001b[0m\u001b[1;33m)\u001b[0m\u001b[1;33m\u001b[0m\u001b[0m\n\u001b[0m",
      "\u001b[1;31mNameError\u001b[0m: name 'Hello' is not defined"
     ]
    }
   ],
   "source": [
    "print(Hello)"
   ]
  },
  {
   "cell_type": "markdown",
   "metadata": {},
   "source": [
    "In order for the code above to run, you must first define the object 'Hello'"
   ]
  },
  {
   "cell_type": "code",
   "execution_count": 11,
   "metadata": {
    "scrolled": true
   },
   "outputs": [
    {
     "name": "stdout",
     "output_type": "stream",
     "text": [
      "Hello World!\n"
     ]
    }
   ],
   "source": [
    "Hello = 'Hello World!'\n",
    "print(Hello)"
   ]
  },
  {
   "cell_type": "markdown",
   "metadata": {},
   "source": [
    "Objects such as variables and data structures are stored in memory. In cases where there is a particularly large amount stored in memory, you can delete an object to clear up space"
   ]
  },
  {
   "cell_type": "code",
   "execution_count": 12,
   "metadata": {},
   "outputs": [],
   "source": [
    "del(Hello)"
   ]
  },
  {
   "cell_type": "markdown",
   "metadata": {},
   "source": [
    "You can also define functions to be used throughout your code. For example:"
   ]
  },
  {
   "cell_type": "code",
   "execution_count": 14,
   "metadata": {},
   "outputs": [
    {
     "data": {
      "text/plain": [
       "'Hello, Tim!'"
      ]
     },
     "execution_count": 14,
     "metadata": {},
     "output_type": "execute_result"
    }
   ],
   "source": [
    "def say_hello(recipient):\n",
    "    return 'Hello, {}!'.format(recipient)\n",
    "\n",
    "say_hello('Tim')"
   ]
  },
  {
   "cell_type": "markdown",
   "metadata": {},
   "source": [
    "# Edit mode vs. Command mode\n",
    "\n",
    "* One final thing you may have observed when running cells is that their border turned blue, whereas it was green while you were editing\n",
    "* There is always one “active” cell highlighted with a border whose color denotes its current mode, where green means “edit mode” and blue is “command mode”\n",
    "\n",
    "# Keyboard shortcuts\n",
    "\n",
    "* So far we have seen how to run a cell with `Ctrl + Enter`, but there are plenty more keyboard shortcuts\n",
    "* Shortcuts are a very popular aspect of the Jupyter environment because they facilitate a speedy cell-based workflow. Many of these are actions you can carry out on the active cell when it’s in command mode.\n",
    "\n",
    "Below, you’ll find a list of some of Jupyter’s keyboard shortcuts:\n",
    "* Toggle between edit and command mode with `Esc` and `Enter`, respectively\n",
    "* Once in command mode:\n",
    "    * Scroll up and down your cells with your `Up` and `Down` keys\n",
    "    * Press `A` or `B` to insert a new cell above or below the active cell\n",
    "    * `M` will transform the active cell to a Markdown cell\n",
    "    * `Y` will set the active cell to a code cell\n",
    "    * `D + D` (D twice) will delete the active cell\n",
    "    * `Z` will undo cell deletion\n",
    "    * Hold `Shift` and press `Up` or `Down` to select multiple cells at once\n",
    "        * With multple cells selected, `Shift + M` will merge your selection\n",
    "* `Ctrl + Shift + -`, in edit mode, will split the active cell at the cursor\n",
    "* You can also click and `Shift + Click` in the margin to the left of your cells to select them\n",
    "\n",
    "[Some more useful shortcuts can be found here](https://www.datadependence.com/2017/02/speed-up-jupyter-notebook-workflow/)\n",
    "\n",
    "# Markdown\n",
    "\n",
    "* Markdown is a lightweight, easy to learn markup language for formatting plain text\n",
    "* All of the narrative text you have seen so far was achieved in Markdown\n",
    "* Let’s cover the basics with a quick example:\n",
    "\n",
    "# This is a level 1 heading\n",
    "## This is a level 2 heading\n",
    "This is some plain text that forms a paragraph\n",
    "Add emphasis via **bold** and __bold__, or *italic* and _italic_\n",
    "\n",
    "Paragraphs must be separated by an empty line\n",
    "\n",
    "* Sometimes we want to include lists\n",
    "    * Which can be indented\n",
    "    \n",
    "    \n",
    "1. Lists can also be numbered\n",
    "    1. For ordered lists\n",
    "    \n",
    "[It is possible to include hyperlinks](https://www.delawarenorth.com/)\n",
    "\n",
    "Inline code uses single backticks: `foo()`, and code blocks use triple backticks:\n",
    "```\n",
    "bar()\n",
    "```\n",
    "And finally, adding images is easy:\n",
    "![Delaware North logo](http://holiday.delawarenorth.com/images/delaware-north-logo.png)\n",
    "\n",
    "When attaching images, you have three options:\n",
    "\n",
    "* Use a URL to an image on the web.\n",
    "* Use a local URL to an image that you will be keeping alongside your notebook, such as in the same folder\n",
    "* Add an attachment via “Edit > Insert Image”; this will convert the image into a string and store it inside your notebook .ipynb file\n",
    "    * Note that this will make your .ipynb file much larger!\n",
    "\n",
    "There is plenty more detail to Markdown. Once you find yourself pushing the limits of the basics above, you can refer to this useful [guide](https://www.markdownguide.org/)\n",
    "\n",
    "# Kernels\n",
    "\n",
    "* Behind every notebook runs a kernel\n",
    "* When you run a code cell, that code is executed within the kernel and any output is returned back to the cell to be displayed\n",
    "* The kernel’s state persists over time and between cells — it pertains to the document as a whole and not individual cells\n",
    "\n",
    "For example, if you import libraries or declare variables in one cell, they will be available in another. In this way, you can think of a notebook document as being somewhat comparable to a script file.\n",
    "\n",
    "Let’s try this out to get a feel for it. First, we’ll import a Python package and define a function:"
   ]
  },
  {
   "cell_type": "code",
   "execution_count": 15,
   "metadata": {},
   "outputs": [],
   "source": [
    "import numpy as np\n",
    "\n",
    "def square(x):\n",
    "    return x * x"
   ]
  },
  {
   "cell_type": "markdown",
   "metadata": {},
   "source": [
    "Once we’ve executed the cell above, we can reference 'np' and 'square' in any other cell."
   ]
  },
  {
   "cell_type": "code",
   "execution_count": 16,
   "metadata": {},
   "outputs": [
    {
     "name": "stdout",
     "output_type": "stream",
     "text": [
      "9 squared is 81\n"
     ]
    }
   ],
   "source": [
    "x = np.random.randint(1, 10)\n",
    "y = square(x)\n",
    "print('%d squared is %d' % (x, y))"
   ]
  },
  {
   "cell_type": "markdown",
   "metadata": {},
   "source": [
    "This will work regardless of the order of the cells in your notebook. For example, let’s print out our variables again."
   ]
  },
  {
   "cell_type": "code",
   "execution_count": 19,
   "metadata": {},
   "outputs": [
    {
     "name": "stdout",
     "output_type": "stream",
     "text": [
      "Is 9 squared 10?\n"
     ]
    }
   ],
   "source": [
    "print('Is %d squared %d?' % (x, y))"
   ]
  },
  {
   "cell_type": "markdown",
   "metadata": {},
   "source": [
    "No surprises here, but now let’s change 'y'."
   ]
  },
  {
   "cell_type": "code",
   "execution_count": 18,
   "metadata": {},
   "outputs": [],
   "source": [
    "y = 10"
   ]
  },
  {
   "cell_type": "markdown",
   "metadata": {},
   "source": [
    "What do you think will happen if we run the cell containing our print statement again?\n",
    "\n",
    "* Most of the time, the flow in your notebook will be top-to-bottom, but it’s common to go back to make changes\n",
    "* In this case, the order of execution stated to the left of each cell, such as `In [6]`, will let you know whether any of your cells have stale output \n",
    "* And if you ever wish to reset things, there are several incredibly useful options from the Kernel menu:\n",
    "    * \"Restart\" restarts the kernel, thus clearing all the objects that were defined\n",
    "    * \"Restart & Clear Output\" is the same as above but will also wipe the output displayed below your code cells\n",
    "    * \"Restart & Run All\" is the same as above but will also run all your cells in order from first to last\n",
    "\n",
    "If your kernel is ever stuck on a computation and you wish to stop it, you can choose the \"Interupt\" option.\n",
    "\n",
    "# Choosing a kernal\n",
    "\n",
    "You may have noticed that Jupyter gives you the option to change the kernel, and in fact there are many different options to choose from. Back when you created a new notebook from the dashboard by selecting a Python version, you were actually choosing which kernel to use.\n",
    "\n",
    "* Not only are there kernels for different versions of Python, but also for over 100 languages including Java, C, and R\n",
    "* The SoS kernel provides multi-language support within a single notebook\n",
    "* Each kernel has its own installation instructions, and will likely require you to run some commands on your computer\n",
    "\n",
    "# Shutting down a kernel\n",
    "\n",
    "Note that closing the notebook tab in your browser will not “close” your notebook in the way closing a document in a traditional application will.\n",
    "\n",
    "* The notebook’s kernel will continue to run in the background and needs to be shut down before it is truly “closed” — though this is pretty handy if you accidentally close your tab or browser!\n",
    "* If the kernel is shut down, you can close the tab without worrying about whether it is still running or not\n",
    "    * The easiest way to do this is to select “File > Close and Halt” from the notebook menu\n",
    "    * You can also shutdown the kernel either by going to “Kernel > Shutdown” from within the notebook app or by selecting the notebook in the dashboard and clicking “Shutdown”\n",
    "    * Finally, you can shutdown the kernel by entering `Ctrl + C` in your Command Prompt"
   ]
  }
 ],
 "metadata": {
  "kernelspec": {
   "display_name": "Python 3",
   "language": "python",
   "name": "python3"
  },
  "language_info": {
   "codemirror_mode": {
    "name": "ipython",
    "version": 3
   },
   "file_extension": ".py",
   "mimetype": "text/x-python",
   "name": "python",
   "nbconvert_exporter": "python",
   "pygments_lexer": "ipython3",
   "version": "3.7.0"
  }
 },
 "nbformat": 4,
 "nbformat_minor": 2
}
